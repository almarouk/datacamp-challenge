{
 "cells": [
  {
   "cell_type": "markdown",
   "metadata": {},
   "source": [
    "<center><h1>Cyberbullying Detection and Classification</h1></center>\n",
    "<br>\n",
    "<center>Authors: Abdelrahman AL MAROUK, Ashraf GHIYE, Cadmos KAHALÉ-ABDOU, Hussein JAWAD, Saba KIRIAKO</center>\n",
    "<br>\n",
    "<div style=\"text-align: center\">\n",
    "<img src=\"img/cyberbullying1.jpeg\" width=\"90%\">\n",
    "</div>"
   ]
  },
  {
   "cell_type": "markdown",
   "metadata": {},
   "source": [
    "- Dr. Sui research: http://research.cs.wisc.edu/bullying/data.html\n",
    "  - `./bullyingV3.0.zip`: 7321 tweets with tweet ID, bullying, author role, teasing, type, form, and emotion labels. This version was described in: `Junming Sui. Understanding and Fighting Bullying with Machine Learning. PhD thesis, Department of Computer Sciences, University of Wisconsin-Madison. 2015.`"
   ]
  },
  {
   "cell_type": "markdown",
   "metadata": {},
   "source": [
    "# Table of content\n",
    "1. [Introduction](#Introduction)\n",
    "2. [Task and Evaluation Metric](#Task-and-Evaluation-Metric)\n",
    "3. [Data](#Data)  \n",
    "    3.1 [Data Description](#Data-Description)  \n",
    "    3.2 [Data Exploration](#Data-Exploration)  \n",
    "4. [A Simple Model](#A-Simple-Model)\n",
    "5. [Submission](#Submission)"
   ]
  },
  {
   "cell_type": "markdown",
   "metadata": {},
   "source": [
    "# Import"
   ]
  },
  {
   "cell_type": "markdown",
   "metadata": {},
   "source": []
  },
  {
   "cell_type": "markdown",
   "metadata": {},
   "source": [
    "# Introduction"
   ]
  },
  {
   "cell_type": "markdown",
   "metadata": {},
   "source": [
    "# Task and Evaluation Metric"
   ]
  },
  {
   "cell_type": "markdown",
   "metadata": {},
   "source": [
    "# Data"
   ]
  },
  {
   "cell_type": "markdown",
   "metadata": {},
   "source": [
    "## Data Description"
   ]
  },
  {
   "cell_type": "markdown",
   "metadata": {},
   "source": [
    "## Data Exploration"
   ]
  },
  {
   "cell_type": "markdown",
   "metadata": {},
   "source": [
    "# A Simple Model"
   ]
  },
  {
   "cell_type": "markdown",
   "metadata": {},
   "source": [
    "# Submission"
   ]
  }
 ],
 "metadata": {
  "kernelspec": {
   "display_name": "Python 3",
   "language": "python",
   "name": "python3"
  },
  "language_info": {
   "codemirror_mode": {
    "name": "ipython",
    "version": 3
   },
   "file_extension": ".py",
   "mimetype": "text/x-python",
   "name": "python",
   "nbconvert_exporter": "python",
   "pygments_lexer": "ipython3",
   "version": "3.7.9"
  }
 },
 "nbformat": 4,
 "nbformat_minor": 4
}
