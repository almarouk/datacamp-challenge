{
 "cells": [
  {
   "cell_type": "markdown",
   "metadata": {},
   "source": [
    "<center><h1>Cyberbullying Detection and Classification</h1></center>\n",
    "<br>\n",
    "<center>Authors: Abdelrahman AL MAROUK, Ashraf GHIYE, Cadmos KAHALÉ-ABDOU, Hussein JAWAD, Saba KIRIAKO</center>\n",
    "<br>\n",
    "<div style=\"text-align: center\">\n",
    "<img src=\"img/cyberbullying1.jpeg\" width=\"90%\">\n",
    "</div>"
   ]
  },
  {
   "cell_type": "markdown",
   "metadata": {},
   "source": [
    "- Dr. Sui research: http://research.cs.wisc.edu/bullying/data.html\n",
    "  - `./bullyingV3.0.zip`: 7321 tweets with tweet ID, bullying, author role, teasing, type, form, and emotion labels. This version was described in: `Junming Sui. Understanding and Fighting Bullying with Machine Learning. PhD thesis, Department of Computer Sciences, University of Wisconsin-Madison. 2015.`"
   ]
  }
 ],
 "metadata": {
  "kernelspec": {
   "display_name": "Python 3",
   "language": "python",
   "name": "python3"
  },
  "language_info": {
   "codemirror_mode": {
    "name": "ipython",
    "version": 3
   },
   "file_extension": ".py",
   "mimetype": "text/x-python",
   "name": "python",
   "nbconvert_exporter": "python",
   "pygments_lexer": "ipython3",
   "version": "3.7.9"
  }
 },
 "nbformat": 4,
 "nbformat_minor": 4
}
